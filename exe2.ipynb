{
 "cells": [
  {
   "cell_type": "code",
   "execution_count": 121,
   "metadata": {},
   "outputs": [],
   "source": [
    "import string\n",
    "import random as rm\n",
    "\n",
    "def generate_password(n_chars, use_numbers=True, use_special_chars=True):\n",
    "    \n",
    "    special_chars = \"! # % & @ ? $ *\"\n",
    "    special_chars = special_chars.split(' ')\n",
    "    letters = \"q w e r t y u i o p a s d f g h j k l ç z x c v b n m\"\n",
    "    letters_low = letters.split(' ')\n",
    "    letters_up = letters.upper()\n",
    "    letters_up = letters_up.split()\n",
    "    \n",
    "    \n",
    "    numbers = range(10)\n",
    "    \n",
    "    require = []\n",
    "    require.extend(letters_low)\n",
    "    require.extend(letters_up)\n",
    "    \n",
    "    password = \"\"\n",
    "    \n",
    "    if use_numbers and  not use_special_chars:\n",
    "    \n",
    "        require.extend(numbers)\n",
    "        for i in range(n_chars):\n",
    "            password += str(rm.choice(require))\n",
    "    elif use_special_chars and  not use_numbers:\n",
    "        \n",
    "        require.extend(special_chars)\n",
    "        \n",
    "        for i in range(n_chars):\n",
    "            password += str(rm.choice(require))\n",
    "    \n",
    "    elif use_numbers and use_special_chars:\n",
    "        \n",
    "        require.extend(numbers)\n",
    "        require.extend(special_chars)\n",
    "        \n",
    "        for i in range(n_chars):\n",
    "            password += str(rm.choice(require))\n",
    "    \n",
    "    else:\n",
    "        for i in range(n_chars):\n",
    "            \n",
    "            password += str(rm.choice(require))\n",
    "    \n",
    "    return password"
   ]
  },
  {
   "cell_type": "code",
   "execution_count": 131,
   "metadata": {},
   "outputs": [
    {
     "name": "stdout",
     "output_type": "stream",
     "text": [
      "Senha forte: 6iGAa2h&azÇmeÇ0dI1d3\n",
      "Senha média: tOuCyICkqHççCsb\n",
      "Senha fraca: sSzVRUBXPh\n"
     ]
    }
   ],
   "source": [
    "print(\"Senha forte: \" + generate_password(20))\n",
    "print(\"Senha média: \" + generate_password(15, use_numbers=False))\n",
    "print(\"Senha fraca: \" + generate_password(10, use_numbers=False, use_special_chars=False))"
   ]
  },
  {
   "cell_type": "code",
   "execution_count": null,
   "metadata": {},
   "outputs": [],
   "source": []
  }
 ],
 "metadata": {
  "kernelspec": {
   "display_name": "Python 3",
   "language": "python",
   "name": "python3"
  },
  "language_info": {
   "codemirror_mode": {
    "name": "ipython",
    "version": 3
   },
   "file_extension": ".py",
   "mimetype": "text/x-python",
   "name": "python",
   "nbconvert_exporter": "python",
   "pygments_lexer": "ipython3",
   "version": "3.8.2"
  }
 },
 "nbformat": 4,
 "nbformat_minor": 4
}
