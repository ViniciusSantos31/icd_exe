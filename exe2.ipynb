{
 "cells": [
  {
   "cell_type": "code",
   "execution_count": 35,
   "metadata": {},
   "outputs": [],
   "source": [
    "import string\n",
    "import random as rm\n",
    "\n",
    "def generate_password(n_chars, use_numbers=True, use_special_chars=True):\n",
    "    \n",
    "    special_chars = string.punctuation\n",
    "    special_chars = get_array_elements(special_chars)\n",
    "    \n",
    "    letters = string.ascii_letters\n",
    "    letters = get_array_elements(letters)\n",
    "    \n",
    "    numbers = string.digits\n",
    "    numbers = get_array_elements(numbers)\n",
    "    \n",
    "    require = []\n",
    "    \n",
    "    require.extend(letters)\n",
    "    \n",
    "    password = \"\"\n",
    "    \n",
    "    if use_numbers and  not use_special_chars:\n",
    "    \n",
    "        require.extend(numbers)\n",
    "        for i in range(n_chars):\n",
    "            password += rm.choice(require)\n",
    "    elif use_special_chars and  not use_numbers:\n",
    "        \n",
    "        require.extend(special_chars)\n",
    "        \n",
    "        for i in range(n_chars):\n",
    "            password += str(rm.choice(require))\n",
    "    \n",
    "    elif use_numbers and use_special_chars:\n",
    "        \n",
    "        require.extend(numbers)\n",
    "        require.extend(special_chars)\n",
    "        \n",
    "        for i in range(n_chars):\n",
    "            password += rm.choice(require)\n",
    "    \n",
    "    else:\n",
    "        for i in range(n_chars):\n",
    "            \n",
    "            password += rm.choice(require)\n",
    "    \n",
    "    return password"
   ]
  },
  {
   "cell_type": "code",
   "execution_count": 36,
   "metadata": {},
   "outputs": [],
   "source": [
    "def get_array_elements(element):\n",
    "    \n",
    "    array = []\n",
    "    \n",
    "    for i in range(len(element)):\n",
    "        array.append(element[i])\n",
    "        \n",
    "    return array"
   ]
  },
  {
   "cell_type": "code",
   "execution_count": 50,
   "metadata": {},
   "outputs": [
    {
     "name": "stdout",
     "output_type": "stream",
     "text": [
      "Senha forte: ,k_1~$wDh/\n",
      "Senha média: Sv--%cZT}T\n",
      "Senha fraca: xfDfFoZGyh\n"
     ]
    }
   ],
   "source": [
    "print(\"Senha forte: \" + generate_password(10))\n",
    "print(\"Senha média: \" + generate_password(10, use_numbers=False))\n",
    "print(\"Senha fraca: \" + generate_password(10, use_numbers=False, use_special_chars=False))"
   ]
  }
 ],
 "metadata": {
  "kernelspec": {
   "display_name": "Python 3",
   "language": "python",
   "name": "python3"
  },
  "language_info": {
   "codemirror_mode": {
    "name": "ipython",
    "version": 3
   },
   "file_extension": ".py",
   "mimetype": "text/x-python",
   "name": "python",
   "nbconvert_exporter": "python",
   "pygments_lexer": "ipython3",
   "version": "3.8.2"
  }
 },
 "nbformat": 4,
 "nbformat_minor": 4
}
